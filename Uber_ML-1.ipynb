{
 "cells": [
  {
   "cell_type": "code",
   "execution_count": 1,
   "id": "db651b8f",
   "metadata": {},
   "outputs": [],
   "source": [
    "import pandas as pd\n",
    "import numpy as np"
   ]
  },
  {
   "cell_type": "code",
   "execution_count": 2,
   "id": "a68dbeab",
   "metadata": {},
   "outputs": [],
   "source": [
    "df=pd.read_csv(\"uber.csv\")"
   ]
  },
  {
   "cell_type": "code",
   "execution_count": 3,
   "id": "7f7622d8",
   "metadata": {},
   "outputs": [
    {
     "data": {
      "text/html": [
       "<div>\n",
       "<style scoped>\n",
       "    .dataframe tbody tr th:only-of-type {\n",
       "        vertical-align: middle;\n",
       "    }\n",
       "\n",
       "    .dataframe tbody tr th {\n",
       "        vertical-align: top;\n",
       "    }\n",
       "\n",
       "    .dataframe thead th {\n",
       "        text-align: right;\n",
       "    }\n",
       "</style>\n",
       "<table border=\"1\" class=\"dataframe\">\n",
       "  <thead>\n",
       "    <tr style=\"text-align: right;\">\n",
       "      <th></th>\n",
       "      <th>Unnamed: 0</th>\n",
       "      <th>key</th>\n",
       "      <th>fare_amount</th>\n",
       "      <th>pickup_datetime</th>\n",
       "      <th>pickup_longitude</th>\n",
       "      <th>pickup_latitude</th>\n",
       "      <th>dropoff_longitude</th>\n",
       "      <th>dropoff_latitude</th>\n",
       "      <th>passenger_count</th>\n",
       "    </tr>\n",
       "  </thead>\n",
       "  <tbody>\n",
       "    <tr>\n",
       "      <th>0</th>\n",
       "      <td>24238194</td>\n",
       "      <td>2015-05-07 19:52:06.0000003</td>\n",
       "      <td>7.5</td>\n",
       "      <td>2015-05-07 19:52:06 UTC</td>\n",
       "      <td>-73.999817</td>\n",
       "      <td>40.738354</td>\n",
       "      <td>-73.999512</td>\n",
       "      <td>40.723217</td>\n",
       "      <td>1</td>\n",
       "    </tr>\n",
       "    <tr>\n",
       "      <th>1</th>\n",
       "      <td>27835199</td>\n",
       "      <td>2009-07-17 20:04:56.0000002</td>\n",
       "      <td>7.7</td>\n",
       "      <td>2009-07-17 20:04:56 UTC</td>\n",
       "      <td>-73.994355</td>\n",
       "      <td>40.728225</td>\n",
       "      <td>-73.994710</td>\n",
       "      <td>40.750325</td>\n",
       "      <td>1</td>\n",
       "    </tr>\n",
       "    <tr>\n",
       "      <th>2</th>\n",
       "      <td>44984355</td>\n",
       "      <td>2009-08-24 21:45:00.00000061</td>\n",
       "      <td>12.9</td>\n",
       "      <td>2009-08-24 21:45:00 UTC</td>\n",
       "      <td>-74.005043</td>\n",
       "      <td>40.740770</td>\n",
       "      <td>-73.962565</td>\n",
       "      <td>40.772647</td>\n",
       "      <td>1</td>\n",
       "    </tr>\n",
       "    <tr>\n",
       "      <th>3</th>\n",
       "      <td>25894730</td>\n",
       "      <td>2009-06-26 08:22:21.0000001</td>\n",
       "      <td>5.3</td>\n",
       "      <td>2009-06-26 08:22:21 UTC</td>\n",
       "      <td>-73.976124</td>\n",
       "      <td>40.790844</td>\n",
       "      <td>-73.965316</td>\n",
       "      <td>40.803349</td>\n",
       "      <td>3</td>\n",
       "    </tr>\n",
       "    <tr>\n",
       "      <th>4</th>\n",
       "      <td>17610152</td>\n",
       "      <td>2014-08-28 17:47:00.000000188</td>\n",
       "      <td>16.0</td>\n",
       "      <td>2014-08-28 17:47:00 UTC</td>\n",
       "      <td>-73.925023</td>\n",
       "      <td>40.744085</td>\n",
       "      <td>-73.973082</td>\n",
       "      <td>40.761247</td>\n",
       "      <td>5</td>\n",
       "    </tr>\n",
       "  </tbody>\n",
       "</table>\n",
       "</div>"
      ],
      "text/plain": [
       "   Unnamed: 0                            key  fare_amount  \\\n",
       "0    24238194    2015-05-07 19:52:06.0000003          7.5   \n",
       "1    27835199    2009-07-17 20:04:56.0000002          7.7   \n",
       "2    44984355   2009-08-24 21:45:00.00000061         12.9   \n",
       "3    25894730    2009-06-26 08:22:21.0000001          5.3   \n",
       "4    17610152  2014-08-28 17:47:00.000000188         16.0   \n",
       "\n",
       "           pickup_datetime  pickup_longitude  pickup_latitude  \\\n",
       "0  2015-05-07 19:52:06 UTC        -73.999817        40.738354   \n",
       "1  2009-07-17 20:04:56 UTC        -73.994355        40.728225   \n",
       "2  2009-08-24 21:45:00 UTC        -74.005043        40.740770   \n",
       "3  2009-06-26 08:22:21 UTC        -73.976124        40.790844   \n",
       "4  2014-08-28 17:47:00 UTC        -73.925023        40.744085   \n",
       "\n",
       "   dropoff_longitude  dropoff_latitude  passenger_count  \n",
       "0         -73.999512         40.723217                1  \n",
       "1         -73.994710         40.750325                1  \n",
       "2         -73.962565         40.772647                1  \n",
       "3         -73.965316         40.803349                3  \n",
       "4         -73.973082         40.761247                5  "
      ]
     },
     "execution_count": 3,
     "metadata": {},
     "output_type": "execute_result"
    }
   ],
   "source": [
    "df.head()"
   ]
  },
  {
   "cell_type": "code",
   "execution_count": 4,
   "id": "38612993",
   "metadata": {},
   "outputs": [
    {
     "data": {
      "text/plain": [
       "<bound method DataFrame.info of         Unnamed: 0                            key  fare_amount  \\\n",
       "0         24238194    2015-05-07 19:52:06.0000003          7.5   \n",
       "1         27835199    2009-07-17 20:04:56.0000002          7.7   \n",
       "2         44984355   2009-08-24 21:45:00.00000061         12.9   \n",
       "3         25894730    2009-06-26 08:22:21.0000001          5.3   \n",
       "4         17610152  2014-08-28 17:47:00.000000188         16.0   \n",
       "...            ...                            ...          ...   \n",
       "199995    42598914   2012-10-28 10:49:00.00000053          3.0   \n",
       "199996    16382965    2014-03-14 01:09:00.0000008          7.5   \n",
       "199997    27804658   2009-06-29 00:42:00.00000078         30.9   \n",
       "199998    20259894    2015-05-20 14:56:25.0000004         14.5   \n",
       "199999    11951496   2010-05-15 04:08:00.00000076         14.1   \n",
       "\n",
       "                pickup_datetime  pickup_longitude  pickup_latitude  \\\n",
       "0       2015-05-07 19:52:06 UTC        -73.999817        40.738354   \n",
       "1       2009-07-17 20:04:56 UTC        -73.994355        40.728225   \n",
       "2       2009-08-24 21:45:00 UTC        -74.005043        40.740770   \n",
       "3       2009-06-26 08:22:21 UTC        -73.976124        40.790844   \n",
       "4       2014-08-28 17:47:00 UTC        -73.925023        40.744085   \n",
       "...                         ...               ...              ...   \n",
       "199995  2012-10-28 10:49:00 UTC        -73.987042        40.739367   \n",
       "199996  2014-03-14 01:09:00 UTC        -73.984722        40.736837   \n",
       "199997  2009-06-29 00:42:00 UTC        -73.986017        40.756487   \n",
       "199998  2015-05-20 14:56:25 UTC        -73.997124        40.725452   \n",
       "199999  2010-05-15 04:08:00 UTC        -73.984395        40.720077   \n",
       "\n",
       "        dropoff_longitude  dropoff_latitude  passenger_count  \n",
       "0              -73.999512         40.723217                1  \n",
       "1              -73.994710         40.750325                1  \n",
       "2              -73.962565         40.772647                1  \n",
       "3              -73.965316         40.803349                3  \n",
       "4              -73.973082         40.761247                5  \n",
       "...                   ...               ...              ...  \n",
       "199995         -73.986525         40.740297                1  \n",
       "199996         -74.006672         40.739620                1  \n",
       "199997         -73.858957         40.692588                2  \n",
       "199998         -73.983215         40.695415                1  \n",
       "199999         -73.985508         40.768793                1  \n",
       "\n",
       "[200000 rows x 9 columns]>"
      ]
     },
     "execution_count": 4,
     "metadata": {},
     "output_type": "execute_result"
    }
   ],
   "source": [
    "df.info"
   ]
  },
  {
   "cell_type": "code",
   "execution_count": 5,
   "id": "6e07e2a0",
   "metadata": {},
   "outputs": [
    {
     "data": {
      "text/html": [
       "<div>\n",
       "<style scoped>\n",
       "    .dataframe tbody tr th:only-of-type {\n",
       "        vertical-align: middle;\n",
       "    }\n",
       "\n",
       "    .dataframe tbody tr th {\n",
       "        vertical-align: top;\n",
       "    }\n",
       "\n",
       "    .dataframe thead th {\n",
       "        text-align: right;\n",
       "    }\n",
       "</style>\n",
       "<table border=\"1\" class=\"dataframe\">\n",
       "  <thead>\n",
       "    <tr style=\"text-align: right;\">\n",
       "      <th></th>\n",
       "      <th>Unnamed: 0</th>\n",
       "      <th>key</th>\n",
       "      <th>fare_amount</th>\n",
       "      <th>pickup_datetime</th>\n",
       "      <th>pickup_longitude</th>\n",
       "      <th>pickup_latitude</th>\n",
       "      <th>dropoff_longitude</th>\n",
       "      <th>dropoff_latitude</th>\n",
       "      <th>passenger_count</th>\n",
       "    </tr>\n",
       "  </thead>\n",
       "  <tbody>\n",
       "    <tr>\n",
       "      <th>0</th>\n",
       "      <td>False</td>\n",
       "      <td>False</td>\n",
       "      <td>False</td>\n",
       "      <td>False</td>\n",
       "      <td>False</td>\n",
       "      <td>False</td>\n",
       "      <td>False</td>\n",
       "      <td>False</td>\n",
       "      <td>False</td>\n",
       "    </tr>\n",
       "    <tr>\n",
       "      <th>1</th>\n",
       "      <td>False</td>\n",
       "      <td>False</td>\n",
       "      <td>False</td>\n",
       "      <td>False</td>\n",
       "      <td>False</td>\n",
       "      <td>False</td>\n",
       "      <td>False</td>\n",
       "      <td>False</td>\n",
       "      <td>False</td>\n",
       "    </tr>\n",
       "    <tr>\n",
       "      <th>2</th>\n",
       "      <td>False</td>\n",
       "      <td>False</td>\n",
       "      <td>False</td>\n",
       "      <td>False</td>\n",
       "      <td>False</td>\n",
       "      <td>False</td>\n",
       "      <td>False</td>\n",
       "      <td>False</td>\n",
       "      <td>False</td>\n",
       "    </tr>\n",
       "    <tr>\n",
       "      <th>3</th>\n",
       "      <td>False</td>\n",
       "      <td>False</td>\n",
       "      <td>False</td>\n",
       "      <td>False</td>\n",
       "      <td>False</td>\n",
       "      <td>False</td>\n",
       "      <td>False</td>\n",
       "      <td>False</td>\n",
       "      <td>False</td>\n",
       "    </tr>\n",
       "    <tr>\n",
       "      <th>4</th>\n",
       "      <td>False</td>\n",
       "      <td>False</td>\n",
       "      <td>False</td>\n",
       "      <td>False</td>\n",
       "      <td>False</td>\n",
       "      <td>False</td>\n",
       "      <td>False</td>\n",
       "      <td>False</td>\n",
       "      <td>False</td>\n",
       "    </tr>\n",
       "    <tr>\n",
       "      <th>...</th>\n",
       "      <td>...</td>\n",
       "      <td>...</td>\n",
       "      <td>...</td>\n",
       "      <td>...</td>\n",
       "      <td>...</td>\n",
       "      <td>...</td>\n",
       "      <td>...</td>\n",
       "      <td>...</td>\n",
       "      <td>...</td>\n",
       "    </tr>\n",
       "    <tr>\n",
       "      <th>199995</th>\n",
       "      <td>False</td>\n",
       "      <td>False</td>\n",
       "      <td>False</td>\n",
       "      <td>False</td>\n",
       "      <td>False</td>\n",
       "      <td>False</td>\n",
       "      <td>False</td>\n",
       "      <td>False</td>\n",
       "      <td>False</td>\n",
       "    </tr>\n",
       "    <tr>\n",
       "      <th>199996</th>\n",
       "      <td>False</td>\n",
       "      <td>False</td>\n",
       "      <td>False</td>\n",
       "      <td>False</td>\n",
       "      <td>False</td>\n",
       "      <td>False</td>\n",
       "      <td>False</td>\n",
       "      <td>False</td>\n",
       "      <td>False</td>\n",
       "    </tr>\n",
       "    <tr>\n",
       "      <th>199997</th>\n",
       "      <td>False</td>\n",
       "      <td>False</td>\n",
       "      <td>False</td>\n",
       "      <td>False</td>\n",
       "      <td>False</td>\n",
       "      <td>False</td>\n",
       "      <td>False</td>\n",
       "      <td>False</td>\n",
       "      <td>False</td>\n",
       "    </tr>\n",
       "    <tr>\n",
       "      <th>199998</th>\n",
       "      <td>False</td>\n",
       "      <td>False</td>\n",
       "      <td>False</td>\n",
       "      <td>False</td>\n",
       "      <td>False</td>\n",
       "      <td>False</td>\n",
       "      <td>False</td>\n",
       "      <td>False</td>\n",
       "      <td>False</td>\n",
       "    </tr>\n",
       "    <tr>\n",
       "      <th>199999</th>\n",
       "      <td>False</td>\n",
       "      <td>False</td>\n",
       "      <td>False</td>\n",
       "      <td>False</td>\n",
       "      <td>False</td>\n",
       "      <td>False</td>\n",
       "      <td>False</td>\n",
       "      <td>False</td>\n",
       "      <td>False</td>\n",
       "    </tr>\n",
       "  </tbody>\n",
       "</table>\n",
       "<p>200000 rows × 9 columns</p>\n",
       "</div>"
      ],
      "text/plain": [
       "        Unnamed: 0    key  fare_amount  pickup_datetime  pickup_longitude  \\\n",
       "0            False  False        False            False             False   \n",
       "1            False  False        False            False             False   \n",
       "2            False  False        False            False             False   \n",
       "3            False  False        False            False             False   \n",
       "4            False  False        False            False             False   \n",
       "...            ...    ...          ...              ...               ...   \n",
       "199995       False  False        False            False             False   \n",
       "199996       False  False        False            False             False   \n",
       "199997       False  False        False            False             False   \n",
       "199998       False  False        False            False             False   \n",
       "199999       False  False        False            False             False   \n",
       "\n",
       "        pickup_latitude  dropoff_longitude  dropoff_latitude  passenger_count  \n",
       "0                 False              False             False            False  \n",
       "1                 False              False             False            False  \n",
       "2                 False              False             False            False  \n",
       "3                 False              False             False            False  \n",
       "4                 False              False             False            False  \n",
       "...                 ...                ...               ...              ...  \n",
       "199995            False              False             False            False  \n",
       "199996            False              False             False            False  \n",
       "199997            False              False             False            False  \n",
       "199998            False              False             False            False  \n",
       "199999            False              False             False            False  \n",
       "\n",
       "[200000 rows x 9 columns]"
      ]
     },
     "execution_count": 5,
     "metadata": {},
     "output_type": "execute_result"
    }
   ],
   "source": [
    "df.isnull()"
   ]
  },
  {
   "cell_type": "code",
   "execution_count": 6,
   "id": "168d7a12",
   "metadata": {},
   "outputs": [
    {
     "data": {
      "text/plain": [
       "Unnamed: 0           0\n",
       "key                  0\n",
       "fare_amount          0\n",
       "pickup_datetime      0\n",
       "pickup_longitude     0\n",
       "pickup_latitude      0\n",
       "dropoff_longitude    1\n",
       "dropoff_latitude     1\n",
       "passenger_count      0\n",
       "dtype: int64"
      ]
     },
     "execution_count": 6,
     "metadata": {},
     "output_type": "execute_result"
    }
   ],
   "source": [
    "df.isnull().sum()"
   ]
  },
  {
   "cell_type": "code",
   "execution_count": 7,
   "id": "5e59b384",
   "metadata": {},
   "outputs": [],
   "source": [
    "df.fillna(0,inplace=True)"
   ]
  },
  {
   "cell_type": "code",
   "execution_count": 8,
   "id": "3cc8a621",
   "metadata": {},
   "outputs": [
    {
     "data": {
      "text/plain": [
       "Unnamed: 0           0\n",
       "key                  0\n",
       "fare_amount          0\n",
       "pickup_datetime      0\n",
       "pickup_longitude     0\n",
       "pickup_latitude      0\n",
       "dropoff_longitude    0\n",
       "dropoff_latitude     0\n",
       "passenger_count      0\n",
       "dtype: int64"
      ]
     },
     "execution_count": 8,
     "metadata": {},
     "output_type": "execute_result"
    }
   ],
   "source": [
    "df.isnull().sum()"
   ]
  },
  {
   "cell_type": "code",
   "execution_count": 9,
   "id": "1ffb66a0",
   "metadata": {},
   "outputs": [],
   "source": [
    "import matplotlib.pyplot as plt"
   ]
  },
  {
   "cell_type": "code",
   "execution_count": 12,
   "id": "17232c58",
   "metadata": {},
   "outputs": [],
   "source": [
    "def haversine (lon_1, lon_2, lat_1, lat_2):\n",
    "    \n",
    "    lon_1, lon_2, lat_1, lat_2 = map(np.radians, [lon_1, lon_2, lat_1, lat_2])  #Degrees to Radians\n",
    "    \n",
    "    \n",
    "    diff_lon = lon_2 - lon_1\n",
    "    diff_lat = lat_2 - lat_1\n",
    "    \n",
    "\n",
    "    km = 2 * 6371 * np.arcsin(np.sqrt(np.sin(diff_lat/2.0)**2 + \n",
    "                                      np.cos(lat_1) * np.cos(lat_2) * np.sin(diff_lon/2.0)**2))\n",
    "    \n",
    "    return km"
   ]
  },
  {
   "cell_type": "code",
   "execution_count": 13,
   "id": "d21d3d63",
   "metadata": {},
   "outputs": [],
   "source": [
    "df['Distance']= haversine(df['pickup_longitude'],df['dropoff_longitude'],\n",
    "                             df['pickup_latitude'],df['dropoff_latitude'])\n",
    "\n",
    "df['Distance'] = df['Distance'].astype(float).round(2)"
   ]
  },
  {
   "cell_type": "code",
   "execution_count": 14,
   "id": "b3552da9",
   "metadata": {},
   "outputs": [
    {
     "data": {
      "text/plain": [
       "Text(0, 0.5, 'fare_amount')"
      ]
     },
     "execution_count": 14,
     "metadata": {},
     "output_type": "execute_result"
    },
    {
     "data": {
      "image/png": "[encoded data removed]",
      "text/plain": [
       "<Figure size 640x480 with 1 Axes>"
      ]
     },
     "metadata": {},
     "output_type": "display_data"
    }
   ],
   "source": [
    "plt.scatter(df[\"Distance\"],df[\"fare_amount\"])\n",
    "plt.xlabel(\"Distance\")\n",
    "plt.ylabel(\"fare_amount\")"
   ]
  },
  {
   "cell_type": "code",
   "execution_count": 15,
   "id": "5cec7766",
   "metadata": {},
   "outputs": [],
   "source": [
    "df.drop(df[df['Distance'] > 60].index, inplace = True)\n",
    "df.drop(df[df['Distance'] == 0].index, inplace = True)\n",
    "df.drop(df[df['fare_amount'] == 0].index, inplace = True)\n",
    "df.drop(df[df['fare_amount'] < 0].index, inplace = True)"
   ]
  },
  {
   "cell_type": "code",
   "execution_count": 16,
   "id": "cf94c86b",
   "metadata": {},
   "outputs": [],
   "source": [
    "df.drop(df[(df['fare_amount']>100) & (df['Distance']<1)].index, inplace = True )\n",
    "df.drop(df[(df['fare_amount']<100) & (df['Distance']>100)].index, inplace = True )"
   ]
  },
  {
   "cell_type": "code",
   "execution_count": 17,
   "id": "eb9b4dc8",
   "metadata": {},
   "outputs": [
    {
     "name": "stdout",
     "output_type": "stream",
     "text": [
      "<class 'pandas.core.frame.DataFrame'>\n",
      "Int64Index: 193481 entries, 0 to 199999\n",
      "Data columns (total 10 columns):\n",
      " #   Column             Non-Null Count   Dtype  \n",
      "---  ------             --------------   -----  \n",
      " 0   Unnamed: 0         193481 non-null  int64  \n",
      " 1   key                193481 non-null  object \n",
      " 2   fare_amount        193481 non-null  float64\n",
      " 3   pickup_datetime    193481 non-null  object \n",
      " 4   pickup_longitude   193481 non-null  float64\n",
      " 5   pickup_latitude    193481 non-null  float64\n",
      " 6   dropoff_longitude  193481 non-null  float64\n",
      " 7   dropoff_latitude   193481 non-null  float64\n",
      " 8   passenger_count    193481 non-null  int64  \n",
      " 9   Distance           193481 non-null  float64\n",
      "dtypes: float64(6), int64(2), object(2)\n",
      "memory usage: 16.2+ MB\n"
     ]
    }
   ],
   "source": [
    "df.info()"
   ]
  },
  {
   "cell_type": "code",
   "execution_count": 18,
   "id": "9225cbdb",
   "metadata": {},
   "outputs": [
    {
     "data": {
      "text/plain": [
       "Text(0, 0.5, 'fare_amount')"
      ]
     },
     "execution_count": 18,
     "metadata": {},
     "output_type": "execute_result"
    },
    {
     "data": {
      "image/png": "[encoded data removed]",
      "text/plain": [
       "<Figure size 640x480 with 1 Axes>"
      ]
     },
     "metadata": {},
     "output_type": "display_data"
    }
   ],
   "source": [
    "plt.scatter(df[\"Distance\"],df[\"fare_amount\"])\n",
    "plt.xlabel(\"Distance\")\n",
    "plt.ylabel(\"fare_amount\")"
   ]
  },
  {
   "cell_type": "code",
   "execution_count": 19,
   "id": "9baed37b",
   "metadata": {},
   "outputs": [],
   "source": [
    "corr=df.corr()"
   ]
  },
  {
   "cell_type": "code",
   "execution_count": 20,
   "id": "168d59f0",
   "metadata": {},
   "outputs": [
    {
     "data": {
      "text/html": [
       "<style type=\"text/css\">\n",
       "#T_acb2b_row0_col0, #T_acb2b_row1_col1, #T_acb2b_row2_col2, #T_acb2b_row2_col4, #T_acb2b_row3_col3, #T_acb2b_row4_col2, #T_acb2b_row4_col4, #T_acb2b_row5_col5, #T_acb2b_row6_col6, #T_acb2b_row7_col7 {\n",
       "  background-color: #00441b;\n",
       "  color: #f1f1f1;\n",
       "}\n",
       "#T_acb2b_row0_col1, #T_acb2b_row2_col7, #T_acb2b_row3_col7, #T_acb2b_row4_col7, #T_acb2b_row6_col7 {\n",
       "  background-color: #f6fcfd;\n",
       "  color: #000000;\n",
       "}\n",
       "#T_acb2b_row0_col2, #T_acb2b_row0_col4, #T_acb2b_row0_col5, #T_acb2b_row7_col5 {\n",
       "  background-color: #67c2a5;\n",
       "  color: #000000;\n",
       "}\n",
       "#T_acb2b_row0_col3 {\n",
       "  background-color: #6cc4a8;\n",
       "  color: #000000;\n",
       "}\n",
       "#T_acb2b_row0_col6 {\n",
       "  background-color: #f5fbfd;\n",
       "  color: #000000;\n",
       "}\n",
       "#T_acb2b_row0_col7, #T_acb2b_row1_col0, #T_acb2b_row2_col0, #T_acb2b_row2_col3, #T_acb2b_row2_col5, #T_acb2b_row3_col0, #T_acb2b_row3_col1, #T_acb2b_row3_col6, #T_acb2b_row4_col0, #T_acb2b_row4_col3, #T_acb2b_row4_col5, #T_acb2b_row5_col0, #T_acb2b_row5_col1, #T_acb2b_row5_col2, #T_acb2b_row5_col4, #T_acb2b_row5_col6, #T_acb2b_row5_col7, #T_acb2b_row6_col0, #T_acb2b_row7_col0 {\n",
       "  background-color: #f7fcfd;\n",
       "  color: #000000;\n",
       "}\n",
       "#T_acb2b_row1_col2 {\n",
       "  background-color: #64c1a2;\n",
       "  color: #000000;\n",
       "}\n",
       "#T_acb2b_row1_col3, #T_acb2b_row6_col3 {\n",
       "  background-color: #6dc5a9;\n",
       "  color: #000000;\n",
       "}\n",
       "#T_acb2b_row1_col4, #T_acb2b_row6_col2, #T_acb2b_row6_col4, #T_acb2b_row7_col2, #T_acb2b_row7_col4 {\n",
       "  background-color: #65c2a3;\n",
       "  color: #000000;\n",
       "}\n",
       "#T_acb2b_row1_col5, #T_acb2b_row6_col5 {\n",
       "  background-color: #68c3a6;\n",
       "  color: #000000;\n",
       "}\n",
       "#T_acb2b_row1_col6, #T_acb2b_row2_col1, #T_acb2b_row3_col2, #T_acb2b_row3_col4, #T_acb2b_row6_col1 {\n",
       "  background-color: #f4fbfc;\n",
       "  color: #000000;\n",
       "}\n",
       "#T_acb2b_row1_col7, #T_acb2b_row7_col1 {\n",
       "  background-color: #006729;\n",
       "  color: #f1f1f1;\n",
       "}\n",
       "#T_acb2b_row2_col6, #T_acb2b_row4_col1, #T_acb2b_row4_col6, #T_acb2b_row7_col6 {\n",
       "  background-color: #f5fbfc;\n",
       "  color: #000000;\n",
       "}\n",
       "#T_acb2b_row3_col5, #T_acb2b_row5_col3 {\n",
       "  background-color: #004a1e;\n",
       "  color: #f1f1f1;\n",
       "}\n",
       "#T_acb2b_row7_col3 {\n",
       "  background-color: #6ac4a7;\n",
       "  color: #000000;\n",
       "}\n",
       "</style>\n",
       "<table id=\"T_acb2b\">\n",
       "  <thead>\n",
       "    <tr>\n",
       "      <th class=\"blank level0\" >&nbsp;</th>\n",
       "      <th id=\"T_acb2b_level0_col0\" class=\"col_heading level0 col0\" >Unnamed: 0</th>\n",
       "      <th id=\"T_acb2b_level0_col1\" class=\"col_heading level0 col1\" >fare_amount</th>\n",
       "      <th id=\"T_acb2b_level0_col2\" class=\"col_heading level0 col2\" >pickup_longitude</th>\n",
       "      <th id=\"T_acb2b_level0_col3\" class=\"col_heading level0 col3\" >pickup_latitude</th>\n",
       "      <th id=\"T_acb2b_level0_col4\" class=\"col_heading level0 col4\" >dropoff_longitude</th>\n",
       "      <th id=\"T_acb2b_level0_col5\" class=\"col_heading level0 col5\" >dropoff_latitude</th>\n",
       "      <th id=\"T_acb2b_level0_col6\" class=\"col_heading level0 col6\" >passenger_count</th>\n",
       "      <th id=\"T_acb2b_level0_col7\" class=\"col_heading level0 col7\" >Distance</th>\n",
       "    </tr>\n",
       "  </thead>\n",
       "  <tbody>\n",
       "    <tr>\n",
       "      <th id=\"T_acb2b_level0_row0\" class=\"row_heading level0 row0\" >Unnamed: 0</th>\n",
       "      <td id=\"T_acb2b_row0_col0\" class=\"data row0 col0\" >1.000000</td>\n",
       "      <td id=\"T_acb2b_row0_col1\" class=\"data row0 col1\" >0.000091</td>\n",
       "      <td id=\"T_acb2b_row0_col2\" class=\"data row0 col2\" >-0.000422</td>\n",
       "      <td id=\"T_acb2b_row0_col3\" class=\"data row0 col3\" >-0.000833</td>\n",
       "      <td id=\"T_acb2b_row0_col4\" class=\"data row0 col4\" >-0.000369</td>\n",
       "      <td id=\"T_acb2b_row0_col5\" class=\"data row0 col5\" >0.000215</td>\n",
       "      <td id=\"T_acb2b_row0_col6\" class=\"data row0 col6\" >0.002918</td>\n",
       "      <td id=\"T_acb2b_row0_col7\" class=\"data row0 col7\" >-0.000479</td>\n",
       "    </tr>\n",
       "    <tr>\n",
       "      <th id=\"T_acb2b_level0_row1\" class=\"row_heading level0 row1\" >fare_amount</th>\n",
       "      <td id=\"T_acb2b_row1_col0\" class=\"data row1 col0\" >0.000091</td>\n",
       "      <td id=\"T_acb2b_row1_col1\" class=\"data row1 col1\" >1.000000</td>\n",
       "      <td id=\"T_acb2b_row1_col2\" class=\"data row1 col2\" >0.012070</td>\n",
       "      <td id=\"T_acb2b_row1_col3\" class=\"data row1 col3\" >-0.008682</td>\n",
       "      <td id=\"T_acb2b_row1_col4\" class=\"data row1 col4\" >0.010555</td>\n",
       "      <td id=\"T_acb2b_row1_col5\" class=\"data row1 col5\" >-0.008695</td>\n",
       "      <td id=\"T_acb2b_row1_col6\" class=\"data row1 col6\" >0.013508</td>\n",
       "      <td id=\"T_acb2b_row1_col7\" class=\"data row1 col7\" >0.893050</td>\n",
       "    </tr>\n",
       "    <tr>\n",
       "      <th id=\"T_acb2b_level0_row2\" class=\"row_heading level0 row2\" >pickup_longitude</th>\n",
       "      <td id=\"T_acb2b_row2_col0\" class=\"data row2 col0\" >-0.000422</td>\n",
       "      <td id=\"T_acb2b_row2_col1\" class=\"data row2 col1\" >0.012070</td>\n",
       "      <td id=\"T_acb2b_row2_col2\" class=\"data row2 col2\" >1.000000</td>\n",
       "      <td id=\"T_acb2b_row2_col3\" class=\"data row2 col3\" >-0.949099</td>\n",
       "      <td id=\"T_acb2b_row2_col4\" class=\"data row2 col4\" >0.999883</td>\n",
       "      <td id=\"T_acb2b_row2_col5\" class=\"data row2 col5\" >-0.993975</td>\n",
       "      <td id=\"T_acb2b_row2_col6\" class=\"data row2 col6\" >0.009174</td>\n",
       "      <td id=\"T_acb2b_row2_col7\" class=\"data row2 col7\" >0.005337</td>\n",
       "    </tr>\n",
       "    <tr>\n",
       "      <th id=\"T_acb2b_level0_row3\" class=\"row_heading level0 row3\" >pickup_latitude</th>\n",
       "      <td id=\"T_acb2b_row3_col0\" class=\"data row3 col0\" >-0.000833</td>\n",
       "      <td id=\"T_acb2b_row3_col1\" class=\"data row3 col1\" >-0.008682</td>\n",
       "      <td id=\"T_acb2b_row3_col2\" class=\"data row3 col2\" >-0.949099</td>\n",
       "      <td id=\"T_acb2b_row3_col3\" class=\"data row3 col3\" >1.000000</td>\n",
       "      <td id=\"T_acb2b_row3_col4\" class=\"data row3 col4\" >-0.949095</td>\n",
       "      <td id=\"T_acb2b_row3_col5\" class=\"data row3 col5\" >0.954759</td>\n",
       "      <td id=\"T_acb2b_row3_col6\" class=\"data row3 col6\" >-0.009219</td>\n",
       "      <td id=\"T_acb2b_row3_col7\" class=\"data row3 col7\" >0.003232</td>\n",
       "    </tr>\n",
       "    <tr>\n",
       "      <th id=\"T_acb2b_level0_row4\" class=\"row_heading level0 row4\" >dropoff_longitude</th>\n",
       "      <td id=\"T_acb2b_row4_col0\" class=\"data row4 col0\" >-0.000369</td>\n",
       "      <td id=\"T_acb2b_row4_col1\" class=\"data row4 col1\" >0.010555</td>\n",
       "      <td id=\"T_acb2b_row4_col2\" class=\"data row4 col2\" >0.999883</td>\n",
       "      <td id=\"T_acb2b_row4_col3\" class=\"data row4 col3\" >-0.949095</td>\n",
       "      <td id=\"T_acb2b_row4_col4\" class=\"data row4 col4\" >1.000000</td>\n",
       "      <td id=\"T_acb2b_row4_col5\" class=\"data row4 col5\" >-0.993962</td>\n",
       "      <td id=\"T_acb2b_row4_col6\" class=\"data row4 col6\" >0.009168</td>\n",
       "      <td id=\"T_acb2b_row4_col7\" class=\"data row4 col7\" >0.004406</td>\n",
       "    </tr>\n",
       "    <tr>\n",
       "      <th id=\"T_acb2b_level0_row5\" class=\"row_heading level0 row5\" >dropoff_latitude</th>\n",
       "      <td id=\"T_acb2b_row5_col0\" class=\"data row5 col0\" >0.000215</td>\n",
       "      <td id=\"T_acb2b_row5_col1\" class=\"data row5 col1\" >-0.008695</td>\n",
       "      <td id=\"T_acb2b_row5_col2\" class=\"data row5 col2\" >-0.993975</td>\n",
       "      <td id=\"T_acb2b_row5_col3\" class=\"data row5 col3\" >0.954759</td>\n",
       "      <td id=\"T_acb2b_row5_col4\" class=\"data row5 col4\" >-0.993962</td>\n",
       "      <td id=\"T_acb2b_row5_col5\" class=\"data row5 col5\" >1.000000</td>\n",
       "      <td id=\"T_acb2b_row5_col6\" class=\"data row5 col6\" >-0.009266</td>\n",
       "      <td id=\"T_acb2b_row5_col7\" class=\"data row5 col7\" >-0.002122</td>\n",
       "    </tr>\n",
       "    <tr>\n",
       "      <th id=\"T_acb2b_level0_row6\" class=\"row_heading level0 row6\" >passenger_count</th>\n",
       "      <td id=\"T_acb2b_row6_col0\" class=\"data row6 col0\" >0.002918</td>\n",
       "      <td id=\"T_acb2b_row6_col1\" class=\"data row6 col1\" >0.013508</td>\n",
       "      <td id=\"T_acb2b_row6_col2\" class=\"data row6 col2\" >0.009174</td>\n",
       "      <td id=\"T_acb2b_row6_col3\" class=\"data row6 col3\" >-0.009219</td>\n",
       "      <td id=\"T_acb2b_row6_col4\" class=\"data row6 col4\" >0.009168</td>\n",
       "      <td id=\"T_acb2b_row6_col5\" class=\"data row6 col5\" >-0.009266</td>\n",
       "      <td id=\"T_acb2b_row6_col6\" class=\"data row6 col6\" >1.000000</td>\n",
       "      <td id=\"T_acb2b_row6_col7\" class=\"data row6 col7\" >0.007441</td>\n",
       "    </tr>\n",
       "    <tr>\n",
       "      <th id=\"T_acb2b_level0_row7\" class=\"row_heading level0 row7\" >Distance</th>\n",
       "      <td id=\"T_acb2b_row7_col0\" class=\"data row7 col0\" >-0.000479</td>\n",
       "      <td id=\"T_acb2b_row7_col1\" class=\"data row7 col1\" >0.893050</td>\n",
       "      <td id=\"T_acb2b_row7_col2\" class=\"data row7 col2\" >0.005337</td>\n",
       "      <td id=\"T_acb2b_row7_col3\" class=\"data row7 col3\" >0.003232</td>\n",
       "      <td id=\"T_acb2b_row7_col4\" class=\"data row7 col4\" >0.004406</td>\n",
       "      <td id=\"T_acb2b_row7_col5\" class=\"data row7 col5\" >-0.002122</td>\n",
       "      <td id=\"T_acb2b_row7_col6\" class=\"data row7 col6\" >0.007441</td>\n",
       "      <td id=\"T_acb2b_row7_col7\" class=\"data row7 col7\" >1.000000</td>\n",
       "    </tr>\n",
       "  </tbody>\n",
       "</table>\n"
      ],
      "text/plain": [
       "<pandas.io.formats.style.Styler at 0x1cb9447fac0>"
      ]
     },
     "execution_count": 20,
     "metadata": {},
     "output_type": "execute_result"
    }
   ],
   "source": [
    "corr.style.background_gradient(cmap=\"BuGn\")"
   ]
  },
  {
   "cell_type": "code",
   "execution_count": 21,
   "id": "3e8481ff",
   "metadata": {},
   "outputs": [],
   "source": [
    "from sklearn.preprocessing import StandardScaler"
   ]
  },
  {
   "cell_type": "code",
   "execution_count": 22,
   "id": "893de2df",
   "metadata": {},
   "outputs": [],
   "source": [
    "x=df[\"Distance\"].values.reshape(-1,1)\n",
    "y=df[\"fare_amount\"].values.reshape(-1,1)"
   ]
  },
  {
   "cell_type": "code",
   "execution_count": 23,
   "id": "f45a4110",
   "metadata": {},
   "outputs": [],
   "source": [
    "std= StandardScaler()"
   ]
  },
  {
   "cell_type": "code",
   "execution_count": 24,
   "id": "34a1ef7f",
   "metadata": {},
   "outputs": [
    {
     "name": "stdout",
     "output_type": "stream",
     "text": [
      "[[-0.4011162 ]\n",
      " [-0.38006651]\n",
      " [ 0.16722527]\n",
      " ...\n",
      " [ 2.06169682]\n",
      " [ 0.33562274]\n",
      " [ 0.29352337]]\n"
     ]
    }
   ],
   "source": [
    "y_std=std.fit_transform(y)\n",
    "print(y_std)"
   ]
  },
  {
   "cell_type": "code",
   "execution_count": 25,
   "id": "73536a92",
   "metadata": {},
   "outputs": [
    {
     "name": "stdout",
     "output_type": "stream",
     "text": [
      "[[-0.46599576]\n",
      " [-0.24929862]\n",
      " [ 0.46746884]\n",
      " ...\n",
      " [ 2.63721838]\n",
      " [ 0.05074357]\n",
      " [ 0.57303924]]\n"
     ]
    }
   ],
   "source": [
    "x_std=std.fit_transform(x)\n",
    "print(x_std)"
   ]
  },
  {
   "cell_type": "code",
   "execution_count": 26,
   "id": "bb0bc0e3",
   "metadata": {},
   "outputs": [],
   "source": [
    "from sklearn.model_selection import train_test_split"
   ]
  },
  {
   "cell_type": "code",
   "execution_count": 27,
   "id": "7114ab12",
   "metadata": {},
   "outputs": [],
   "source": [
    "x_train,x_test,y_train,y_test=train_test_split(x_std,y_std,test_size=0.2)"
   ]
  },
  {
   "cell_type": "code",
   "execution_count": 28,
   "id": "f4325b4e",
   "metadata": {},
   "outputs": [
    {
     "data": {
      "text/plain": [
       "LinearRegression()"
      ]
     },
     "execution_count": 28,
     "metadata": {},
     "output_type": "execute_result"
    }
   ],
   "source": [
    "from sklearn.linear_model import LinearRegression\n",
    "l_reg = LinearRegression()\n",
    "l_reg.fit(x_train, y_train)"
   ]
  },
  {
   "cell_type": "code",
   "execution_count": 29,
   "id": "45d5e047",
   "metadata": {},
   "outputs": [],
   "source": [
    "y_pred = l_reg.predict(x_test)\n",
    "df = {'Actual': y_test, 'Predicted': y_pred}"
   ]
  },
  {
   "cell_type": "code",
   "execution_count": 30,
   "id": "af667059",
   "metadata": {},
   "outputs": [
    {
     "name": "stdout",
     "output_type": "stream",
     "text": [
      "Mean Absolute Error: 0.2417498757644449\n",
      "Mean Absolute % Error: 3.2383171583226935\n",
      "Mean Squared Error: 0.20233857274259331\n",
      "Root Mean Squared Error: 0.4498206006205066\n"
     ]
    }
   ],
   "source": [
    "from sklearn import metrics\n",
    "print('Mean Absolute Error:', metrics.mean_absolute_error(y_test, y_pred))\n",
    "print('Mean Absolute % Error:', metrics.mean_absolute_percentage_error(y_test, y_pred))\n",
    "print('Mean Squared Error:', metrics.mean_squared_error(y_test, y_pred))\n",
    "print('Root Mean Squared Error:', np.sqrt(metrics.mean_squared_error(y_test, y_pred)))"
   ]
  },
  {
   "cell_type": "code",
   "execution_count": 31,
   "id": "6fc79efd",
   "metadata": {},
   "outputs": [
    {
     "name": "stderr",
     "output_type": "stream",
     "text": [
      "C:\\Users\\Sumit Ranaware\\AppData\\Local\\Temp\\ipykernel_15936\\3975641977.py:5: DataConversionWarning: A column-vector y was passed when a 1d array was expected. Please change the shape of y to (n_samples,), for example using ravel().\n",
      "  regressor.fit(x_train, y_train)\n"
     ]
    },
    {
     "data": {
      "text/plain": [
       "RandomForestRegressor(random_state=0)"
      ]
     },
     "execution_count": 31,
     "metadata": {},
     "output_type": "execute_result"
    }
   ],
   "source": [
    "from sklearn.ensemble import RandomForestRegressor\n",
    "\n",
    "regressor = RandomForestRegressor(n_estimators = 100, random_state = 0)\n",
    "\n",
    "regressor.fit(x_train, y_train)"
   ]
  },
  {
   "cell_type": "code",
   "execution_count": 34,
   "id": "41c0ec90",
   "metadata": {},
   "outputs": [
    {
     "data": {
      "text/plain": [
       "array([-0.29160463,  1.15032795, -0.36268007, ...,  2.04260747,\n",
       "       -0.34570117, -0.40118613])"
      ]
     },
     "execution_count": 34,
     "metadata": {},
     "output_type": "execute_result"
    }
   ],
   "source": [
    "Y_pred = regressor.predict(x_test)\n",
    "Y_pred"
   ]
  },
  {
   "cell_type": "code",
   "execution_count": 33,
   "id": "2a75dc99",
   "metadata": {},
   "outputs": [
    {
     "name": "stdout",
     "output_type": "stream",
     "text": [
      "Mean Absolute Error: 0.2417498757644449\n",
      "Mean Absolute % Error: 3.2383171583226935\n",
      "Mean Squared Error: 0.20233857274259331\n",
      "Root Mean Squared Error: 0.4498206006205066\n"
     ]
    }
   ],
   "source": [
    "from sklearn import metrics\n",
    "print('Mean Absolute Error:', metrics.mean_absolute_error(y_test, y_pred))\n",
    "print('Mean Absolute % Error:', metrics.mean_absolute_percentage_error(y_test, y_pred))\n",
    "print('Mean Squared Error:', metrics.mean_squared_error(y_test, y_pred))\n",
    "print('Root Mean Squared Error:', np.sqrt(metrics.mean_squared_error(y_test, y_pred)))\n"
   ]
  },
  {
   "cell_type": "code",
   "execution_count": null,
   "id": "cd52d3fb",
   "metadata": {},
   "outputs": [],
   "source": []
  },
  {
   "cell_type": "code",
   "execution_count": null,
   "id": "e1c9b5d8",
   "metadata": {},
   "outputs": [],
   "source": []
  }
 ],
 "metadata": {
  "kernelspec": {
   "display_name": "Python 3 (ipykernel)",
   "language": "python",
   "name": "python3"
  },
  "language_info": {
   "codemirror_mode": {
    "name": "ipython",
    "version": 3
   },
   "file_extension": ".py",
   "mimetype": "text/x-python",
   "name": "python",
   "nbconvert_exporter": "python",
   "pygments_lexer": "ipython3",
   "version": "3.9.13"
  }
 },
 "nbformat": 4,
 "nbformat_minor": 5
}
